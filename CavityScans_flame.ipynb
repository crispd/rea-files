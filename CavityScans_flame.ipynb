{
 "cells": [
  {
   "cell_type": "code",
   "execution_count": 1,
   "metadata": {
    "collapsed": true
   },
   "outputs": [],
   "source": [
    "import os\n",
    "from pathlib import Path\n",
    "#from flame import Machine\n",
    "import flame\n",
    "from flame import Machine #Machine() not found without this line\n",
    "import flame_utils\n",
    "import numpy as np\n",
    "import matplotlib.pyplot as plt\n",
    "import labframePlotFun\n",
    "%matplotlib inline\n",
    "#%matplotlib qt #for showing graphs in second window"
   ]
  },
  {
   "cell_type": "code",
   "execution_count": 2,
   "metadata": {
    "collapsed": false
   },
   "outputs": [
    {
     "data": {
      "text/plain": [
       "'/projects/rea3/data/CrispAnalysis/phantasy-machines/ReA/GPL/baseline_gpl_fully_corrected.lat'"
      ]
     },
     "execution_count": 2,
     "metadata": {},
     "output_type": "execute_result"
    }
   ],
   "source": [
    "#Linking to flame/data folder in cwd, and establishing lattice file (.lat)\n",
    "# latpath definition seems to assume rea-files/ and phantasy-machines/ is in same folder...\n",
    "\n",
    "#current working dir\n",
    "cwd = os.getcwd()\n",
    "\n",
    "#Get path of directory containing flame module\n",
    "#  (todo: if not found, search rea-files parent directory,\n",
    "#  or rea3/data/CrispAnalysis/phantasy-machines)\n",
    "flamedir = os.path.dirname(os.path.abspath(flame.__file__))\n",
    "# if found, create link in cwd to flame/data folder\n",
    "if os.path.isfile(flamedir):\n",
    "    flamedata = flamedir + '/data'\n",
    "    os.unlink(cwd + '/data')\n",
    "    os.symlink(flamedata, cwd + '/data')\n",
    "\n",
    "# define '.lat' latfile\n",
    "#latfile = \"ReA3_JENSA.lat\"\n",
    "#latfile_handle = open(cwd + '/' + latfile, 'rb')\n",
    "latfile = \"baseline_gpl_fully_corrected.lat\"\n",
    "latpath = str(Path(cwd).parent) + '/phantasy-machines/ReA/GPL/' + latfile\n",
    "latfile_handle = open(latpath, 'rb')\n",
    "latpath"
   ]
  },
  {
   "cell_type": "code",
   "execution_count": 3,
   "metadata": {
    "collapsed": false
   },
   "outputs": [
    {
     "name": "stderr",
     "output_type": "stream",
     "text": [
      "WARNING: 2020-04-02 13:32:26,197: flame_utils.core.model: ModelFlame: Lattice file is not valid, do it manually.\n"
     ]
    }
   ],
   "source": [
    "# create FLAME machine\n",
    "m = Machine(latfile_handle)\n",
    "\n",
    "# create BeamState object\n",
    "bs = flame_utils.BeamState(machine=m)\n",
    "\n",
    "# create ModelFlame object\n",
    "fm = flame_utils.ModelFlame()"
   ]
  },
  {
   "cell_type": "code",
   "execution_count": 4,
   "metadata": {
    "collapsed": true
   },
   "outputs": [],
   "source": [
    "# setup machine and state\n",
    "fm.bmstate, fm.machine = bs, m"
   ]
  },
  {
   "cell_type": "code",
   "execution_count": 47,
   "metadata": {
    "collapsed": true
   },
   "outputs": [],
   "source": [
    "# setup observers and run flame model\n",
    "obs = range(len(fm.machine))\n",
    "r,s = fm.run(monitor=obs)"
   ]
  },
  {
   "cell_type": "code",
   "execution_count": 49,
   "metadata": {
    "collapsed": false
   },
   "outputs": [
    {
     "data": {
      "text/plain": [
       "500376.7160938978"
      ]
     },
     "execution_count": 49,
     "metadata": {},
     "output_type": "execute_result"
    }
   ],
   "source": [
    "Ek_list = [i[1].ref_IonEk for i in r]\n",
    "r[24][1].ref_IonEk"
   ]
  },
  {
   "cell_type": "code",
   "execution_count": null,
   "metadata": {
    "collapsed": true
   },
   "outputs": [],
   "source": []
  },
  {
   "cell_type": "code",
   "execution_count": null,
   "metadata": {
    "collapsed": true
   },
   "outputs": [],
   "source": []
  },
  {
   "cell_type": "code",
   "execution_count": null,
   "metadata": {
    "collapsed": true
   },
   "outputs": [],
   "source": []
  },
  {
   "cell_type": "code",
   "execution_count": null,
   "metadata": {
    "collapsed": true
   },
   "outputs": [],
   "source": []
  },
  {
   "cell_type": "code",
   "execution_count": 23,
   "metadata": {
    "collapsed": false,
    "scrolled": true
   },
   "outputs": [
    {
     "data": {
      "text/plain": [
       "500000.0"
      ]
     },
     "execution_count": 23,
     "metadata": {},
     "output_type": "execute_result"
    }
   ],
   "source": [
    "m.conf(0)['IonEk'] # Input beam energy in eV/u"
   ]
  },
  {
   "cell_type": "code",
   "execution_count": 25,
   "metadata": {
    "collapsed": false
   },
   "outputs": [
    {
     "data": {
      "text/plain": [
       "500000.0"
      ]
     },
     "execution_count": 25,
     "metadata": {},
     "output_type": "execute_result"
    }
   ],
   "source": [
    "Ek_RFQ = 541000.0 # New RFQ outputs ~0.541 MeV/u\n",
    "m.reconfigure(0, {'IonEk':Ek_RFQ})\n",
    "m.conf()['IonEk']"
   ]
  },
  {
   "cell_type": "code",
   "execution_count": 17,
   "metadata": {
    "collapsed": false
   },
   "outputs": [
    {
     "data": {
      "text/plain": [
       "[24, 46, 53, 55, 62, 64, 71, 86, 93, 95, 97, 104, 106, 108, 115]"
      ]
     },
     "execution_count": 17,
     "metadata": {},
     "output_type": "execute_result"
    }
   ],
   "source": [
    "m.find(type='rfcavity') # find element index by element name"
   ]
  },
  {
   "cell_type": "code",
   "execution_count": 18,
   "metadata": {
    "collapsed": false
   },
   "outputs": [
    {
     "data": {
      "text/plain": [
       "odict_keys(['Eng_Data_Dir', 'HdipoleFitMode', 'IonChargeStates', 'IonEk', 'IonEs', 'L', 'MpoleLevel', 'NCharge', 'P0', 'S0', 'aper', 'cavtype', 'datafile', 'f', 'name', 'phi', 'scl_fac', 'sim_type', 'type'])"
      ]
     },
     "execution_count": 18,
     "metadata": {},
     "output_type": "execute_result"
    }
   ],
   "source": [
    "m.conf(24).keys() # Parameter keys of element"
   ]
  },
  {
   "cell_type": "code",
   "execution_count": 30,
   "metadata": {
    "collapsed": true
   },
   "outputs": [],
   "source": [
    "####################\n",
    "# Cavity Scan(s)   #\n",
    "####################"
   ]
  },
  {
   "cell_type": "code",
   "execution_count": 31,
   "metadata": {
    "collapsed": false
   },
   "outputs": [
    {
     "data": {
      "text/plain": [
       "'REA_CK01:CAV_D1049'"
      ]
     },
     "execution_count": 31,
     "metadata": {},
     "output_type": "execute_result"
    }
   ],
   "source": [
    "# Cavity Name\n",
    "m.conf(24)['name']"
   ]
  },
  {
   "cell_type": "code",
   "execution_count": 10,
   "metadata": {
    "collapsed": false
   },
   "outputs": [
    {
     "data": {
      "text/plain": [
       "-9.10184"
      ]
     },
     "execution_count": 10,
     "metadata": {},
     "output_type": "execute_result"
    }
   ],
   "source": [
    "# Initial Cav Ampl\n",
    "ampl_ini = m.conf(24)['scl_fac']\n",
    "ampl_ini"
   ]
  },
  {
   "cell_type": "code",
   "execution_count": 33,
   "metadata": {
    "collapsed": false
   },
   "outputs": [
    {
     "data": {
      "text/plain": [
       "270.242"
      ]
     },
     "execution_count": 33,
     "metadata": {},
     "output_type": "execute_result"
    }
   ],
   "source": [
    "# Initial Cav Phase\n",
    "pha_ini = m.conf(24)['phi']\n",
    "pha_ini"
   ]
  },
  {
   "cell_type": "code",
   "execution_count": 39,
   "metadata": {
    "collapsed": false
   },
   "outputs": [
    {
     "data": {
      "text/plain": [
       "'REA_CK01:CAV_DFT_D1049'"
      ]
     },
     "execution_count": 39,
     "metadata": {},
     "output_type": "execute_result"
    }
   ],
   "source": [
    "# Check what's after\n",
    "m.conf(25)['name']"
   ]
  },
  {
   "cell_type": "code",
   "execution_count": null,
   "metadata": {
    "collapsed": true
   },
   "outputs": [],
   "source": [
    "##############################\n",
    "# Establish state\n",
    "# Run, get exit energy. (are vals at element before or after?)"
   ]
  },
  {
   "cell_type": "code",
   "execution_count": 40,
   "metadata": {
    "collapsed": true
   },
   "outputs": [],
   "source": [
    "# run simulation to just after 1st cavity\n",
    "SA = m.allocState({})\n",
    "rA = m.propagate(SA, 0, 25, observe=range(len(m))) # propagate up to quad we're scanning"
   ]
  },
  {
   "cell_type": "code",
   "execution_count": 45,
   "metadata": {
    "collapsed": false
   },
   "outputs": [
    {
     "data": {
      "text/plain": [
       "500000.0"
      ]
     },
     "execution_count": 45,
     "metadata": {},
     "output_type": "execute_result"
    }
   ],
   "source": [
    "energy_at_element = m.conf(25)"
   ]
  },
  {
   "cell_type": "code",
   "execution_count": 36,
   "metadata": {
    "collapsed": true
   },
   "outputs": [],
   "source": [
    "# scan parameters by using single loop\n",
    "b2lst = [-5.0, -7.5, -10, -12.5, -15] # Quad strengths\n",
    "rlst = []\n",
    "for b2 in b2lst:\n",
    "    SB = SA.clone()\n",
    "    m.reconfigure(307, {'B2':b2})\n",
    "    rt = m.propagate(SB,307,360,observe=range(len(m))) # range(len(m)) is 0, 360\n",
    "    rlst.append(rt)"
   ]
  },
  {
   "cell_type": "code",
   "execution_count": 14,
   "metadata": {
    "collapsed": false
   },
   "outputs": [
    {
     "data": {
      "image/png": "[encoded data removed]",
      "text/plain": [
       "<matplotlib.figure.Figure at 0x7f9ce8d701d0>"
      ]
     },
     "metadata": {},
     "output_type": "display_data"
    }
   ],
   "source": [
    "# plot the scan result\n",
    "\n",
    "# get z-position and x-rms data from before scanned quad\n",
    "zA = [s[1].pos for s in rA] # get z positions of elements\n",
    "xA = [s[1].moment0_rms[0] for s in rA] # get the x rms size at location of elements\n",
    "\n",
    "# append resulting x-rms data to pre-quad data\n",
    "#  for a given run at quad strength b2lst\n",
    "for b2,rt in zip(b2lst,rlst):\n",
    "    zt = zA + [s[1].pos for s in rt] # join the history result\n",
    "    xt = xA + [s[1].moment0_rms[0] for s in rt]\n",
    "    plt.plot(zt, xt, label='B2='+str(b2))\n",
    "\n",
    "plt.ylabel('x rms [mm]')\n",
    "plt.xlabel('z [m]')\n",
    "plt.legend(loc='best')\n",
    "plt.show()"
   ]
  },
  {
   "cell_type": "code",
   "execution_count": null,
   "metadata": {
    "collapsed": false
   },
   "outputs": [],
   "source": []
  },
  {
   "cell_type": "code",
   "execution_count": null,
   "metadata": {
    "collapsed": true
   },
   "outputs": [],
   "source": []
  }
 ],
 "metadata": {
  "kernelspec": {
   "display_name": "Python 3",
   "language": "python",
   "name": "python3"
  },
  "language_info": {
   "codemirror_mode": {
    "name": "ipython",
    "version": 3
   },
   "file_extension": ".py",
   "mimetype": "text/x-python",
   "name": "python",
   "nbconvert_exporter": "python",
   "pygments_lexer": "ipython3",
   "version": "3.5.3"
  }
 },
 "nbformat": 4,
 "nbformat_minor": 2
}
