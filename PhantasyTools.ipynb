{
 "cells": [
  {
   "cell_type": "code",
   "execution_count": 1,
   "metadata": {
    "collapsed": false
   },
   "outputs": [],
   "source": [
    "###############################\n",
    "# Using Phantasy              #\n",
    "###############################"
   ]
  },
  {
   "cell_type": "code",
   "execution_count": 2,
   "metadata": {
    "collapsed": false
   },
   "outputs": [],
   "source": [
    "import phantasy\n",
    "import matplotlib.pyplot as plt\n",
    "import labframePlotFun\n",
    "%matplotlib inline\n",
    "\n",
    "from epics import caget, caput, cainfo"
   ]
  },
  {
   "cell_type": "code",
   "execution_count": 3,
   "metadata": {
    "collapsed": false
   },
   "outputs": [
    {
     "name": "stderr",
     "output_type": "stream",
     "text": [
      "[2020-04-02T16:25:37.530] INFO: phantasy.library.operation.core: Load new machine: 'ReA', segment: 'GPL_VA'\n",
      "[2020-04-02T16:25:37.531] INFO: phantasy.library.parser.config: Importing '/projects/rea3/data/CrispAnalysis/phantasy-machines/ReA' from '/projects/rea3/data/CrispAnalysis/phantasy-machines/ReA'\n",
      "[2020-04-02T16:25:37.533] INFO: phantasy.library.parser.config: Loading machine configuration file: /projects/rea3/data/CrispAnalysis/phantasy-machines/ReA/phantasy.ini\n",
      "[2020-04-02T16:25:37.534] INFO: phantasy.library.operation.lattice: Loading segment: 'GPL_VA'\n",
      "[2020-04-02T16:25:37.537] WARNING: phantasy.library.operation.lattice: Default UNICORN policy will be applied.\n",
      "[2020-04-02T16:25:37.538] INFO: phantasy.library.operation.lattice: Loading PV data from CSV/SQLite: /projects/rea3/data/CrispAnalysis/phantasy-machines/ReA/GPL/channels_gpl.csv\n",
      "[2020-04-02T16:25:37.540] INFO: phantasy.library.pv.datasource: Set source to be CSV table: channels_gpl.csv.\n",
      "[2020-04-02T16:25:37.586] INFO: phantasy.library.operation.lattice: Model data directory: /user/rea3/phantasy_data/20200402/model_data/data_162537\n",
      "[2020-04-02T16:25:37.588] INFO: phantasy.library.operation.lattice: Found 358 PVs in 'GPL_VA'.\n",
      "[2020-04-02T16:25:37.839] INFO: phantasy.library.operation.lattice: 'GPL_VA' has 97 elements\n"
     ]
    }
   ],
   "source": [
    "# e.g. machine-name: 'FRIB_LEBT', segment: 'LEBT' (or skipped)\n",
    "mp = phantasy.MachinePortal(machine='/projects/rea3/data/CrispAnalysis/phantasy-machines/ReA', segment='GPL_VA')"
   ]
  },
  {
   "cell_type": "code",
   "execution_count": null,
   "metadata": {
    "collapsed": true
   },
   "outputs": [],
   "source": [
    "# Make lat object?\n",
    "lat = mp.work_lattice_conf"
   ]
  },
  {
   "cell_type": "code",
   "execution_count": 6,
   "metadata": {
    "collapsed": false
   },
   "outputs": [],
   "source": [
    "#\n",
    "# Synchronizing values\n",
    "#\n",
    "\n",
    "# sync settings from accelerator (VA or REAL)\n",
    "#lat.sync_settings(data_source='control')\n",
    "\n",
    "# sync settings from model to accelerator\n",
    "#lat.sync_settings(data_source='model')"
   ]
  },
  {
   "cell_type": "code",
   "execution_count": 9,
   "metadata": {
    "collapsed": false
   },
   "outputs": [],
   "source": [
    "#\n",
    "# Spit out current values\n",
    "#\n",
    "\n",
    "mp.get_all_types()\n",
    "#elem = mp.get_elements(type=['SOL', 'HCOR', 'VCOR', 'CAV', 'BEND', 'QUAD'])\n",
    "elem = mp.get_elements(type=['SOL', 'HCOR', 'VCOR', 'QUAD'])\n",
    "#mp.get_pv_values(elem, ['I'])\n",
    "data_0 = mp.get_pv_values(elem)"
   ]
  },
  {
   "cell_type": "code",
   "execution_count": 11,
   "metadata": {
    "collapsed": false,
    "scrolled": true
   },
   "outputs": [
    {
     "name": "stdout",
     "output_type": "stream",
     "text": [
      "Process Variable\t\t\tDRVL\tDRVH\n",
      "cannot connect to VA:REA_BTS32:DH_D1376:I_CSET.DRVL\n",
      "cannot connect to VA:REA_BTS32:DH_D1376:I_CSET.DRVL\n",
      "cannot connect to VA:REA_BTS32:DH_D1376:I_CSET.DRVH\n",
      "cannot connect to VA:REA_BTS32:DH_D1376:I_CSET.DRVH\n"
     ]
    }
   ],
   "source": [
    "#\n",
    "# Set Drive limits (not cavities)\n",
    "#\n",
    "\n",
    "from epics import caget, caput, cainfo\n",
    "\n",
    "# get all element names, remove FC/VD, then CAV too\n",
    "names = mp.get_all_names()\n",
    "names = [ name for name in names if \":FC_\" not in name and \":VD_\" not in name ]\n",
    "names = [name for name in  names if \":CAV_\" not in name ]\n",
    "\n",
    "print(\"Process Variable\\t\\t\\tDRVL\\tDRVH\")\n",
    "for name in names:\n",
    "    pv_va = \"VA:\" + name + \":I_CSET\"\n",
    "    if \":DCV_\" in pv_va: pv_va = pv_va.replace(\":DCV_\", \":PSC1_\")\n",
    "    if \":DCH_\" in pv_va: pv_va = pv_va.replace(\":DCH_\", \":PSC2_\")\n",
    "    if \"BTS26:PSC1\" in pv_va: pv_va = pv_va.replace(\"BTS26:PSC1\", \"BTS30:PSC1\")\n",
    "    if \"BTS26:PSC2\" in pv_va: pv_va = pv_va.replace(\"BTS26:PSC2\", \"BTS30:PSC2\")\n",
    "    \n",
    "    pv = name + \":I_CSET\"\n",
    "    \n",
    "    drvl = caget(pv + \".DRVL\")\n",
    "    drvh = caget(pv + \".DRVH\")\n",
    "    #print(pv + \",\\t\\t\" + str(drvl) + \",\\t\" + str(drvh))\n",
    "    \n",
    "    caput(pv_va + \".DRVL\", drvl)\n",
    "    drvl_va = caget(pv_va + \".DRVL\")\n",
    "    \n",
    "    caput(pv_va + \".DRVH\", drvh)\n",
    "    drvh_va = caget(pv_va + \".DRVH\")\n",
    "    \n",
    "    #print(pv_va + \",\\t\\t\" + str(drvl_va) + \",\\t\" + str(drvh_va))\n",
    "    \n",
    "    #value = caget(pv)\n",
    "    #caput(pv_va,value)\n",
    "\n"
   ]
  },
  {
   "cell_type": "code",
   "execution_count": 12,
   "metadata": {
    "collapsed": false
   },
   "outputs": [],
   "source": [
    "#\n",
    "# Set Drive limits (cavities only)\n",
    "#\n",
    "\n",
    "# get all element names, exclude everything except CAV, then replace CAV with RFC\n",
    "names = mp.get_all_names()\n",
    "names = [name for name in  names if \":CAV_\" in name ]\n",
    "names = [name.replace(\":CAV_\", \":RFC_\") for name in names ]\n",
    "\n",
    "# get drive limits from live machine, apply to VA\n",
    "for name in names:\n",
    "    pv_amp = name + \":E_CSET\"\n",
    "    pv_pha = name + \":PHA_CSET\"\n",
    "    \n",
    "    drvh = caget(pv_amp + \".DRVH\")\n",
    "    caput(\"VA:\" + pv_amp + \".DRVH\", drvh)\n",
    "    \n",
    "    caput(\"VA:\" + pv_pha + \".DRVL\", -360)\n",
    "    caput(\"VA:\" + pv_pha + \".DRVH\", 360)\n",
    "    \n",
    "    #val_amp = caget(pv_amp)\n",
    "    #val_pha = caget(pv_pha)\n",
    "    \n",
    "    #caput(\"VA:\" + pv_amp, val_amp)\n",
    "    #caput(\"VA:\" + pv_pha, val_pha)"
   ]
  },
  {
   "cell_type": "code",
   "execution_count": null,
   "metadata": {
    "collapsed": true
   },
   "outputs": [],
   "source": []
  }
 ],
 "metadata": {
  "kernelspec": {
   "display_name": "Python 3",
   "language": "python",
   "name": "python3"
  },
  "language_info": {
   "codemirror_mode": {
    "name": "ipython",
    "version": 3
   },
   "file_extension": ".py",
   "mimetype": "text/x-python",
   "name": "python",
   "nbconvert_exporter": "python",
   "pygments_lexer": "ipython3",
   "version": "3.5.3"
  }
 },
 "nbformat": 4,
 "nbformat_minor": 2
}
